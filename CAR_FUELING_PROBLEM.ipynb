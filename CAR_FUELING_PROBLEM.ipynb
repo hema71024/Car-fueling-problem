{
  "nbformat": 4,
  "nbformat_minor": 0,
  "metadata": {
    "colab": {
      "name": "CAR FUELING PROBLEM ",
      "provenance": [],
      "collapsed_sections": []
    },
    "kernelspec": {
      "display_name": "Python 3",
      "name": "python3"
    },
    "language_info": {
      "name": "python"
    }
  },
  "cells": [
    {
      "cell_type": "markdown",
      "metadata": {
        "id": "j0QfN5bC46dU"
      },
      "source": [
        "# Minimum Number Of Refueling Stops Problem:\n",
        "*  A car travels from a starting position to a destination which is target miles east of the starting position.\n",
        "\n",
        "*  There are gas stations along the way. The gas stations are represented as an array stations where stations[i] = [positioni, fueli] indicates that the ith gas station is positioni miles east of the starting position and has fueli liters of gas.\n",
        "\n",
        "* The car starts with an infinite tank of gas, which initially has startFuel liters of fuel in it. It uses one liter of gas per one mile that it drives. When the car reaches a gas station, it may stop and refuel, transferring all the gas from the station into the car.\n",
        "\n",
        "*  Return the minimum number of refueling stops the car must make in order to reach its destination. If it cannot reach the destination, return -1.\n",
        "\n",
        "* Note that if the car reaches a gas station with 0 fuel left, the car can still refuel there. If the car reaches the destination with 0 fuel left, it is still considered to have arrived."
      ]
    },
    {
      "cell_type": "markdown",
      "metadata": {
        "id": "3iPsjilCgY1Q"
      },
      "source": [
        "# Best greedy  solution "
      ]
    },
    {
      "cell_type": "markdown",
      "metadata": {
        "id": "B3PyDpF7o3O4"
      },
      "source": [
        "## Greedy time complexity $o(n)$  space complexity  $o(1)$\n",
        "\n",
        "\n"
      ]
    },
    {
      "cell_type": "code",
      "metadata": {
        "id": "jIt1fOqcULx1"
      },
      "source": [
        "#best solution\n",
        "def car_fueling_greedy(distance, car_limit, num_stations, gas_stations_locations):\n",
        "    num_stop, current_station, out_of_gas_position = 0, 0, car_limit\n",
        "    stations=[]\n",
        "    car_tank=car_limit\n",
        "    n=1\n",
        "    n2=1\n",
        "    print(\"car tank at start :\",car_tank)\n",
        "    while out_of_gas_position < distance:  \n",
        "        n+=1\n",
        "        \n",
        "        # While (no more  gas  stations in the road and  target is  not reached) or (the fuel  is  not enough to  reach  the  next gas station )    \n",
        "        if current_station >= num_stations or gas_stations_locations[current_station][0] > out_of_gas_position:\n",
        "            # Cannot reach the destination nor the next gas station\n",
        "            print('Can not Reach the target position')\n",
        "            return \n",
        "       \n",
        "        # Find the furthest gas station we can reach\n",
        "        # while we didn't reach the last gas  station and we can reach the next gas station  \n",
        "        while current_station < num_stations-1 and gas_stations_locations[current_station+1][0] <= out_of_gas_position:\n",
        "            n2+=1\n",
        "            #  Calculate the  remaining  fuel at car tank after reaching  the next  gas  station \n",
        "            car_tank-=gas_stations_locations[current_station][0] if current_station == 0 else (gas_stations_locations[current_station][0]-gas_stations_locations[current_station-1][0])\n",
        "            print(\"car tank after passing Location :\",gas_stations_locations[current_station][0],\" is : \",car_tank)\n",
        "            #  Setting  current staion to  next station \n",
        "            current_station += 1\n",
        "            \n",
        "            \n",
        "        # append Stations visited to  the visited stations list   \n",
        "        stations.append(gas_stations_locations[current_station][0])    \n",
        "        # increasig number of stops\n",
        "        num_stop += 1  \n",
        "        # Calculate the  remaining  fuel at car tank after reaching  the next  gas  station \n",
        "        car_tank-= gas_stations_locations[current_station][0] if current_station == 0 else (gas_stations_locations[current_station][0]-gas_stations_locations[current_station-1][0])\n",
        "        print(\"car tank when reaching Location :\",gas_stations_locations[current_station][0],\" is : \",car_tank)\n",
        "        # Calculate the  remaining  fuel at car tank after refueling  at gas  station \n",
        "        car_tank+=gas_stations_locations[current_station][1]\n",
        "        print(\"car tank after adding fuel at Location :\",gas_stations_locations[current_station][0],\" is : \",car_tank)\n",
        "        # calculate   the distancee  that car can travel without  needing refuel   \n",
        "        out_of_gas_position = gas_stations_locations[current_station][0] + car_tank  \n",
        "        # Setting  current staion to  next station   \n",
        "        current_station += 1\n",
        "    #printing complexity  \n",
        "    # print(\"n  =\",num_stations,\" complexity = \",n*n2  if  n2!=0 else  n)\n",
        "    # Calculate the remaining  fuel when  reaching the target  \n",
        "    car_tank-=(distance-stations[-1]) if len(stations)>0 else distance\n",
        "    print(\"car tank at Target is :\",car_tank)\n",
        "    print(\"number of stop times = \",num_stop)\n",
        "    print(\"stations are : \",stations)\n",
        "\n",
        "    "
      ],
      "execution_count": null,
      "outputs": []
    },
    {
      "cell_type": "code",
      "metadata": {
        "colab": {
          "base_uri": "https://localhost:8080/"
        },
        "id": "KVwFVaqhUL_h",
        "outputId": "f324c029-5dc0-4c57-8ab3-b8ab6fc33c0a"
      },
      "source": [
        "#Best Case The Car Won't stop at any gas station  \n",
        "stations=[[10,60],[20,40],[21,30],[23,40]]\n",
        "car_tank_limit=50\n",
        "target_distance=50\n",
        "num_stations=len(stations)\n",
        "car_fueling_greedy(target_distance, car_tank_limit, num_stations, stations)\n",
        "print(\"\\n\")"
      ],
      "execution_count": null,
      "outputs": [
        {
          "output_type": "stream",
          "text": [
            "car tank at start : 50\n",
            "car tank at Target is : 0\n",
            "number of stop times =  0\n",
            "stations are :  []\n",
            "\n",
            "\n"
          ],
          "name": "stdout"
        }
      ]
    },
    {
      "cell_type": "code",
      "metadata": {
        "colab": {
          "base_uri": "https://localhost:8080/"
        },
        "id": "iIEHKLk92HQH",
        "outputId": "37164ce9-e377-4f40-a459-494acaca9b92"
      },
      "source": [
        "#Worst Case The Car Will  Stop At Every  Gas  Station\n",
        "stations=[[10,20],[30,40],[70,30],[100,40 ]]\n",
        "car_tank_limit=10\n",
        "target_distance=140\n",
        "num_stations=len(stations)\n",
        "car_fueling_greedy(target_distance, car_tank_limit, num_stations, stations)\n",
        "print(\"\\n\")"
      ],
      "execution_count": null,
      "outputs": [
        {
          "output_type": "stream",
          "text": [
            "car tank at start : 10\n",
            "car tank when reaching Location : 10  is :  0\n",
            "car tank after adding fuel at Location : 10  is :  20\n",
            "car tank when reaching Location : 30  is :  0\n",
            "car tank after adding fuel at Location : 30  is :  40\n",
            "car tank when reaching Location : 70  is :  0\n",
            "car tank after adding fuel at Location : 70  is :  30\n",
            "car tank when reaching Location : 100  is :  0\n",
            "car tank after adding fuel at Location : 100  is :  40\n",
            "car tank at Target is : 0\n",
            "number of stop times =  4\n",
            "stations are :  [10, 30, 70, 100]\n",
            "\n",
            "\n"
          ],
          "name": "stdout"
        }
      ]
    },
    {
      "cell_type": "code",
      "metadata": {
        "colab": {
          "base_uri": "https://localhost:8080/"
        },
        "id": "SMdAFhIPdfTz",
        "outputId": "aea68250-aa1e-4fca-c0c9-28d92de9e1eb"
      },
      "source": [
        "stations=[[11,60],[20,30],[30,30],[59,40]]\n",
        "car_tank_limit=11\n",
        "target_distance=100\n",
        "num_stations=len(stations)\n",
        "car_fueling_greedy(target_distance, car_tank_limit, num_stations, stations)\n",
        "print(\"\\n\")\n"
      ],
      "execution_count": null,
      "outputs": [
        {
          "output_type": "stream",
          "text": [
            "car tank at start : 11\n",
            "car tank when reaching Location : 11  is :  0\n",
            "car tank after adding fuel at Location : 11  is :  60\n",
            "car tank after passing Location : 20  is :  51\n",
            "car tank after passing Location : 30  is :  41\n",
            "car tank when reaching Location : 59  is :  12\n",
            "car tank after adding fuel at Location : 59  is :  52\n",
            "car tank at Target is : 11\n",
            "number of stop times =  2\n",
            "stations are :  [11, 59]\n",
            "\n",
            "\n"
          ],
          "name": "stdout"
        }
      ]
    },
    {
      "cell_type": "code",
      "metadata": {
        "colab": {
          "base_uri": "https://localhost:8080/"
        },
        "id": "VOdilBQcUL8n",
        "outputId": "373904a7-dbbd-407d-a9c4-56201fc6c8e0"
      },
      "source": [
        "stations=[[10,20],[30,40],[70,30],[100,40]]\n",
        "car_tank_limit=10\n",
        "target_distance=140\n",
        "num_stations=len(stations)\n",
        "car_fueling_greedy(target_distance, car_tank_limit, num_stations, stations)\n",
        "print(\"\\n\")"
      ],
      "execution_count": null,
      "outputs": [
        {
          "output_type": "stream",
          "text": [
            "car tank at start : 10\n",
            "car tank when reaching Location : 10  is :  0\n",
            "car tank after adding fuel at Location : 10  is :  20\n",
            "car tank when reaching Location : 30  is :  0\n",
            "car tank after adding fuel at Location : 30  is :  40\n",
            "car tank when reaching Location : 70  is :  0\n",
            "car tank after adding fuel at Location : 70  is :  30\n",
            "car tank when reaching Location : 100  is :  0\n",
            "car tank after adding fuel at Location : 100  is :  40\n",
            "car tank at Target is : 0\n",
            "number of stop times =  4\n",
            "stations are :  [10, 30, 70, 100]\n",
            "\n",
            "\n"
          ],
          "name": "stdout"
        }
      ]
    },
    {
      "cell_type": "code",
      "metadata": {
        "colab": {
          "base_uri": "https://localhost:8080/"
        },
        "id": "EAIpwLVjUL5X",
        "outputId": "ea8f844d-9a27-4020-b671-0cd4c4e63907"
      },
      "source": [
        "stations=[[11,60],[20,30],[30,30],[60,40]]\n",
        "car_tank_limit=13\n",
        "target_distance=100\n",
        "num_stations=len(stations)\n",
        "car_fueling_greedy(target_distance, car_tank_limit, num_stations, stations)\n",
        "print(\"\\n\")"
      ],
      "execution_count": null,
      "outputs": [
        {
          "output_type": "stream",
          "text": [
            "car tank at start : 13\n",
            "car tank when reaching Location : 11  is :  2\n",
            "car tank after adding fuel at Location : 11  is :  62\n",
            "car tank after passing Location : 20  is :  53\n",
            "car tank after passing Location : 30  is :  43\n",
            "car tank when reaching Location : 60  is :  13\n",
            "car tank after adding fuel at Location : 60  is :  53\n",
            "car tank at Target is : 13\n",
            "number of stop times =  2\n",
            "stations are :  [11, 60]\n",
            "\n",
            "\n"
          ],
          "name": "stdout"
        }
      ]
    },
    {
      "cell_type": "markdown",
      "metadata": {
        "id": "FU_HpPhc62-d"
      },
      "source": [
        "# Dynamic Programming"
      ]
    },
    {
      "cell_type": "markdown",
      "metadata": {
        "id": "sDAtiONhkrIv"
      },
      "source": [
        "##  dp with time complexity $o(n^{2})$  space complexity  $o(n^{2})$"
      ]
    },
    {
      "cell_type": "code",
      "metadata": {
        "id": "Pup8jOM2yRfH"
      },
      "source": [
        "import numpy as np\n",
        "def minRefuelStops(target, startFuel, stations):\n",
        "  \n",
        "  stations_num=len(stations)+1\n",
        "  dp= np.zeros([stations_num,stations_num])\n",
        "  dp[:,0]= startFuel\n",
        "  stations_taken = []\n",
        "\n",
        "\n",
        "  #add new station to the problem\n",
        "  for station in range(1, stations_num):\n",
        "\n",
        "    for num_refills in range(1, station+1):\n",
        "\n",
        "      # check if you can reach the new station AND refill from it?\n",
        "      # so you will ask if you can reach the new station with (num_refills-1) from all the previous stations? \n",
        "      # because one refill can be from the new one\n",
        "      if  dp[station-1][num_refills-1] >= stations[station-1][0] :\n",
        "\n",
        "\n",
        "        # if true, find which is better? to reach and refill from the new station or to do all the refills from the previous ones?   \n",
        "        dp[station][num_refills]=max(dp[station-1][num_refills],stations[station-1][1]+dp[station-1][num_refills-1])\n",
        "        # trace if you want:\n",
        "        # print(\"At station: \", station, \"num refil: \",num_refills)\n",
        "        # print (dp)\n",
        "        \n",
        "\n",
        "      else:\n",
        "        # if not true, do all the refills from the previous ones\n",
        "        dp[station][num_refills] = dp[station-1][num_refills]\n",
        "        # print(\"At station: \",station,\"num refil: \",num_refills)\n",
        "        # print (dp)\n",
        "\n",
        "\n",
        "  i = -1\n",
        "  flag = 0\n",
        "  # for each distance in last row in the table \n",
        "  # [that row represents maximum distances having all the stations and doing exactly i refills]\n",
        "  for distance in dp[-1,]: \n",
        "    i +=1\n",
        "    if  distance >= target:\n",
        "      flag = 1\n",
        "      # print(distance,i)\n",
        "      break\n",
        "    \n",
        "    \n",
        "  if flag == 1:\n",
        "    print(\"Number Of Minimum Stops =\", i)\n",
        "\n",
        "    visited_stations = []\n",
        "    # back from last station to first one\n",
        "    for station_reversed in range(len(stations) , -1, -1):\n",
        "      # Have all the i refills been from the previous stations?  \n",
        "      if(dp[station_reversed-1][i] != dp[station_reversed][i]):\n",
        "        # if not , then for sure the ith refill was from the new station  \n",
        "        visited_stations.append(stations[station_reversed-1])\n",
        "        i -= 1\n",
        "\n",
        "    print(\"Visited Stations are  :\",sorted(visited_stations) )\n",
        "      \n",
        "  else: \n",
        "    print(\"Target is not reachable\")\n",
        "    "
      ],
      "execution_count": null,
      "outputs": []
    },
    {
      "cell_type": "code",
      "metadata": {
        "colab": {
          "base_uri": "https://localhost:8080/"
        },
        "id": "83vjaaprw0Rv",
        "outputId": "31d142fb-5eef-475c-9940-1e3f8abca73f"
      },
      "source": [
        "target=105\n",
        "startFuel=10\n",
        "stations=[[10,60],[20,20],[30,30],[60,40]]\n",
        "minRefuelStops(target, startFuel, stations)"
      ],
      "execution_count": null,
      "outputs": [
        {
          "output_type": "stream",
          "text": [
            "Number Of Minimum Stops = 2\n",
            "Visited Stations are  : [[10, 60], [60, 40]]\n"
          ],
          "name": "stdout"
        }
      ]
    },
    {
      "cell_type": "code",
      "metadata": {
        "colab": {
          "base_uri": "https://localhost:8080/"
        },
        "id": "s7xW40qIx552",
        "outputId": "fa09717f-14de-4c57-dbcf-42be5060a507"
      },
      "source": [
        "#Best Case The Car Won't stop at any gas station  \n",
        "stations=[[10,60],[20,40],[21,30],[23,40]]\n",
        "startFuel=50\n",
        "target_distance=50\n",
        "minRefuelStops(target_distance, startFuel, stations)\n",
        "print(\"\\n\")"
      ],
      "execution_count": null,
      "outputs": [
        {
          "output_type": "stream",
          "text": [
            "Number Of Minimum Stops = 0\n",
            "Visited Stations are  : []\n",
            "\n",
            "\n"
          ],
          "name": "stdout"
        }
      ]
    },
    {
      "cell_type": "code",
      "metadata": {
        "colab": {
          "base_uri": "https://localhost:8080/"
        },
        "id": "-51I40j-x6M8",
        "outputId": "7325524c-f580-4f6e-d101-1f1534cd7880"
      },
      "source": [
        "#Worst Case The Car Will  Stop At Every  Gas  Station\n",
        "stations=[[10,20],[30,40],[70,30],[100,40 ]]\n",
        "startFuel=10\n",
        "target_distance=140\n",
        "minRefuelStops(target_distance, startFuel, stations)\n",
        "print(\"\\n\")"
      ],
      "execution_count": null,
      "outputs": [
        {
          "output_type": "stream",
          "text": [
            "Number Of Minimum Stops = 4\n",
            "Visited Stations are  : [[10, 20], [30, 40], [70, 30], [100, 40]]\n",
            "\n",
            "\n"
          ],
          "name": "stdout"
        }
      ]
    },
    {
      "cell_type": "markdown",
      "metadata": {
        "id": "BwTuc1cbxVrw"
      },
      "source": [
        "## PriorityQueue"
      ]
    },
    {
      "cell_type": "code",
      "metadata": {
        "id": "DSKtf4V8yRnP"
      },
      "source": [
        "#priorty queue\n",
        "# A simple implementation of Priority Queue\n",
        "# using Queue.\n",
        "import sys\n",
        "class PriorityQueue(object):\n",
        "\tdef __init__(self):\n",
        "\t\tself.queue = []\n",
        "\n",
        "\tdef __str__(self):\n",
        "\t\treturn [str(i[0]) for i in self.queue]\n",
        "\n",
        "\t# for checking if the queue is empty\n",
        "\tdef isEmpty(self):\n",
        "\t\treturn len(self.queue) == 0\n",
        "\n",
        "\t# for inserting an element in the queue\n",
        "\tdef insert(self, data):\n",
        "\t\tself.queue.append(data)\n",
        "\n",
        "\t# for popping an element based on Priority\n",
        "\tdef delete(self):\n",
        "\t\ttry:\n",
        "\t\t\tmax = 0\n",
        "\t\t\tfor i in range(len(self.queue)):\n",
        "\t\t\t\tif self.queue[i][1] > self.queue[max][1]:\n",
        "\t\t\t\t\tmax = i\n",
        "\t\t\titem = self.queue[max]\n",
        "\t\t\tdel self.queue[max]\n",
        "\t\t\treturn item\n",
        "\t\texcept IndexError:\n",
        "\t\t\tprint()\n",
        "\t\t\texit()\n",
        "\n"
      ],
      "execution_count": null,
      "outputs": []
    },
    {
      "cell_type": "markdown",
      "metadata": {
        "id": "GizZWj0amVXQ"
      },
      "source": [
        "## third approach with time complexity $o(n\\log(n))$  space complexity  $o(n)$\n",
        "\n",
        "\n"
      ]
    },
    {
      "cell_type": "code",
      "metadata": {
        "id": "Xg6nvnV_yRrW"
      },
      "source": [
        "def minRefuelStops(target,  startFuel, stations) :\n",
        "      pq = PriorityQueue()\n",
        "      num_stations=len(stations)\n",
        "      \n",
        "      refill,Current_Station =0,0;\n",
        "      OutOfGasPosition = startFuel;\n",
        "      \n",
        "      while(OutOfGasPosition<target):\n",
        "          while(Current_Station<num_stations and OutOfGasPosition >= stations[Current_Station][0]):\n",
        "              pq.insert(stations[Current_Station]);\n",
        "              Current_Station+=1;\n",
        "          \n",
        "          \n",
        "          if(pq.isEmpty()):\n",
        "            print(\"Not  Reachable\")\n",
        "            return\n",
        "          \n",
        "          OutOfGasPosition += pq.delete()[1]\n",
        "          refill+=1\n",
        "\n",
        "      visited_Staions=[station  for station in stations  if station not in pq.queue  and len(pq.queue)!=0]\n",
        "      print(\"Minimum Num   Of  Refueling times   are :\",len(visited_Staions))\n",
        "      print(\"Stations  Visited:=\",visited_Staions)\n",
        "      \n",
        "      return \n",
        " "
      ],
      "execution_count": null,
      "outputs": []
    },
    {
      "cell_type": "code",
      "metadata": {
        "colab": {
          "base_uri": "https://localhost:8080/"
        },
        "id": "zzXOXneVyRuh",
        "outputId": "102e08d0-ea86-4a1d-bfe9-d77020fb2ca3"
      },
      "source": [
        "target=105\n",
        "startFuel=10\n",
        "stations=[[10,60],[20,20],[30,30],[60,40]]\n",
        "minRefuelStops(target,  startFuel, stations)"
      ],
      "execution_count": null,
      "outputs": [
        {
          "output_type": "stream",
          "text": [
            "Minimum Num   Of  Refueling times   are : 2\n",
            "Stations  Visited:= [[10, 60], [60, 40]]\n"
          ],
          "name": "stdout"
        }
      ]
    },
    {
      "cell_type": "code",
      "metadata": {
        "colab": {
          "base_uri": "https://localhost:8080/"
        },
        "id": "7kj2CSNOyRxr",
        "outputId": "638ac8af-e582-49a1-f5bf-76fd96d37de6"
      },
      "source": [
        "target=140\n",
        "startFuel=20\n",
        "stations=[[10,60],[20,20],[30,30],[60,40],[80,50]]\n",
        "minRefuelStops(target,  startFuel, stations)"
      ],
      "execution_count": null,
      "outputs": [
        {
          "output_type": "stream",
          "text": [
            "Minimum Num   Of  Refueling times   are : 3\n",
            "Stations  Visited:= [[10, 60], [60, 40], [80, 50]]\n"
          ],
          "name": "stdout"
        }
      ]
    },
    {
      "cell_type": "code",
      "metadata": {
        "colab": {
          "base_uri": "https://localhost:8080/"
        },
        "id": "9k_fr78JyR1Q",
        "outputId": "4fb5d972-0f8d-4bf0-d86e-af5f6e6b7417"
      },
      "source": [
        "target=100\n",
        "startFuel=100\n",
        "stations=[[11,60],[20,30],[30,30],[60,40]]\n",
        "minRefuelStops(target,  startFuel, stations)"
      ],
      "execution_count": null,
      "outputs": [
        {
          "output_type": "stream",
          "text": [
            "Minimum Num   Of  Refueling times   are : 0\n",
            "Stations  Visited:= []\n"
          ],
          "name": "stdout"
        }
      ]
    },
    {
      "cell_type": "code",
      "metadata": {
        "colab": {
          "base_uri": "https://localhost:8080/"
        },
        "id": "cU671X1syR5h",
        "outputId": "c31238e5-f375-4605-b3ae-08093e9c1bbc"
      },
      "source": [
        "target=100\n",
        "startFuel=10\n",
        "stations=[[11,60],[20,30],[30,30],[60,40]]\n",
        "minRefuelStops(target,  startFuel, stations)"
      ],
      "execution_count": null,
      "outputs": [
        {
          "output_type": "stream",
          "text": [
            "Not  Reachable\n"
          ],
          "name": "stdout"
        }
      ]
    },
    {
      "cell_type": "code",
      "metadata": {
        "colab": {
          "base_uri": "https://localhost:8080/"
        },
        "id": "5wRlmCOTorle",
        "outputId": "73a77a2c-9a49-407d-f02e-647681402995"
      },
      "source": [
        "target=130\n",
        "startFuel=30\n",
        "stations=[[10,60],[20,20],[30,30],[60,40]]\n",
        "minRefuelStops(target,  startFuel, stations)"
      ],
      "execution_count": null,
      "outputs": [
        {
          "output_type": "stream",
          "text": [
            "Minimum Num   Of  Refueling times   are : 2\n",
            "Stations  Visited:= [[10, 60], [60, 40]]\n"
          ],
          "name": "stdout"
        }
      ]
    }
  ]
}